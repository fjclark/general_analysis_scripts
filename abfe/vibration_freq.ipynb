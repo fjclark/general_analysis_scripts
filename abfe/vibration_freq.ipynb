{
 "cells": [
  {
   "cell_type": "code",
   "execution_count": 1,
   "metadata": {},
   "outputs": [],
   "source": [
    "import numpy as np"
   ]
  },
  {
   "cell_type": "code",
   "execution_count": 85,
   "metadata": {},
   "outputs": [],
   "source": [
    "# Calculates the force constant given two atoms of mass atom_mass and a period of vibration\n",
    "# T = 2pisqrt(mu/k)\n",
    "# k = 4*pi**mu/T**2\n",
    "\n",
    "def calc_k(atom_mass1, atom_mass2, period_of_vibration):\n",
    "    '''Atom mass in g mol-1, \n",
    "       period of vibration in s'''\n",
    "    mu = 1/((1/atom_mass1) + (1/atom_mass2)) # g mol-1\n",
    "    mu/= 1000 # kg mol-1\n",
    "    k = 4 * np.pi**2 * mu / period_of_vibration**2 # kg mol-1 s-2 = J m-2 mol-1 (kg = J s**2 m-2)\n",
    "    k/= 1000 * 10e20 # kJ A-2 mol-1\n",
    "    k_kcal = k/ 4.184 # kcal A-2 mol-1\n",
    "    print(f\"k = {k_kcal} kcal mol-1 A-2, or {k} kJ mol-1\")\n",
    "\n",
    "def nu_to_t(nu):\n",
    "    return(1/(3e10*nu)) # c as 3x10^10 cm s-1"
   ]
  },
  {
   "cell_type": "code",
   "execution_count": 87,
   "metadata": {},
   "outputs": [
    {
     "name": "stdout",
     "output_type": "stream",
     "text": [
      "k = 141.53352391619538 kcal mol-1 A-2, or 592.1762640653615 kJ mol-1\n"
     ]
    }
   ],
   "source": [
    "atom_mass1 = 12 # g mol-1\n",
    "atom_mass2 = 12\n",
    "#period_of_vibration = nu_to_t(3000) # s\n",
    "period_of_vibration = 20e-15 # s\n",
    "\n",
    "calc_k(atom_mass1, atom_mass2, period_of_vibration)"
   ]
  },
  {
   "cell_type": "code",
   "execution_count": null,
   "metadata": {},
   "outputs": [],
   "source": []
  }
 ],
 "metadata": {
  "kernelspec": {
   "display_name": "Python 3.9.10",
   "language": "python",
   "name": "python3"
  },
  "language_info": {
   "codemirror_mode": {
    "name": "ipython",
    "version": 3
   },
   "file_extension": ".py",
   "mimetype": "text/x-python",
   "name": "python",
   "nbconvert_exporter": "python",
   "pygments_lexer": "ipython3",
   "version": "3.9.10"
  },
  "orig_nbformat": 4,
  "vscode": {
   "interpreter": {
    "hash": "91a4ca8273f7d6826e5f84789c42688b948ba55a4a582bdc4bdb0676eea3da3d"
   }
  }
 },
 "nbformat": 4,
 "nbformat_minor": 2
}
