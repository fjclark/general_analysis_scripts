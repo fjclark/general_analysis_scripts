{
 "cells": [
  {
   "cell_type": "code",
   "execution_count": 1,
   "id": "69fa186f",
   "metadata": {},
   "outputs": [],
   "source": [
    "import numpy as np"
   ]
  },
  {
   "cell_type": "markdown",
   "id": "afe57e53",
   "metadata": {},
   "source": [
    "### Arguments"
   ]
  },
  {
   "cell_type": "code",
   "execution_count": 2,
   "id": "f4732aee",
   "metadata": {},
   "outputs": [],
   "source": [
    "# 01 to allow for up to 99 runs\n",
    "\n",
    "run_no = '01'"
   ]
  },
  {
   "cell_type": "markdown",
   "id": "c1f0cf24",
   "metadata": {},
   "source": [
    "### Functions to Read Files and Extract Energies"
   ]
  },
  {
   "cell_type": "code",
   "execution_count": 3,
   "id": "34561d3b",
   "metadata": {},
   "outputs": [],
   "source": [
    "def getEnergyMBAR(input_file):\n",
    "    '''\n",
    "    Finds MBAR free energy from .dat input file.\n",
    "    '''\n",
    "    with open(input_file,'r') as file:\n",
    "        read_file = file.readlines()\n",
    "    \n",
    "    energy =''\n",
    "    standard_dev =''\n",
    "\n",
    "    for i, line in enumerate(read_file):\n",
    "        if line.startswith('#MBAR free energy difference in kcal/mol:'):\n",
    "            energy=read_file[i+1].split()[0][:-1]\n",
    "            standard_dev=read_file[i+1].split()[1][:-1]\n",
    "        \n",
    "    return (energy, standard_dev)"
   ]
  },
  {
   "cell_type": "code",
   "execution_count": 4,
   "id": "6bb3ac70",
   "metadata": {},
   "outputs": [],
   "source": [
    "def getEnergyTI(input_file):\n",
    "    '''\n",
    "    Finds TI free energy from .dat input file.\n",
    "    '''\n",
    "    with open(input_file,'r') as file:\n",
    "        read_file = file.readlines()\n",
    "    \n",
    "    energy =''\n",
    "\n",
    "    for i, line in enumerate(read_file):\n",
    "        if line.startswith('#TI free energy difference in kcal/mol:'):\n",
    "            energy=read_file[i+1].split()[0][:-1]\n",
    "        \n",
    "    return energy"
   ]
  },
  {
   "cell_type": "code",
   "execution_count": 5,
   "id": "050a9db9",
   "metadata": {},
   "outputs": [],
   "source": [
    "def getLJcorr(input_file):\n",
    "    '''Finds LJ correction from .dat file'''\n",
    "    \n",
    "    with open(input_file,'r') as file:\n",
    "        read_file = file.readlines()\n",
    "    \n",
    "    correction = read_file[0].split()[2]\n",
    "    standard_dev= read_file[0].split()[4]\n",
    "        \n",
    "    return (correction,standard_dev)"
   ]
  },
  {
   "cell_type": "code",
   "execution_count": 6,
   "id": "a713e93f",
   "metadata": {},
   "outputs": [],
   "source": [
    "def getStdState(input_file):\n",
    "    '''Finds standard state correction from .dat file and returns correction as string'''\n",
    "    \n",
    "    with open(input_file,'r') as file:\n",
    "        read_file = file.readlines()\n",
    "        \n",
    "    energy=''\n",
    "    \n",
    "    for i, line in enumerate(read_file):\n",
    "        if line.startswith('Free energy change upon removing the restraint and applying standard state conditions'):\n",
    "            energy=read_file[i].split()[-2]\n",
    "            \n",
    "    return energy"
   ]
  },
  {
   "cell_type": "markdown",
   "id": "d43fbbf0",
   "metadata": {},
   "source": [
    "### Paths to Files"
   ]
  },
  {
   "cell_type": "code",
   "execution_count": 7,
   "id": "59be52fe",
   "metadata": {},
   "outputs": [],
   "source": [
    "energy_paths = {'free_discharge':f'free/run0{run_no}/discharge/output/freenrg-MBAR-p-83-overlap.dat',\n",
    "         'free_vanish':f'free/run0{run_no}/vanish/output/freenrg-MBAR-p-83-overlap.dat',\n",
    "         'bound_discharge':f'bound/run0{run_no}/discharge/output/freenrg-MBAR-p-83-overlap.dat',\n",
    "         'bound_vanish':f'bound/run0{run_no}/vanish/output/freenrg-MBAR-p-83-overlap.dat'}"
   ]
  },
  {
   "cell_type": "markdown",
   "id": "3f7bc841",
   "metadata": {},
   "source": [
    "### Get Energies"
   ]
  },
  {
   "cell_type": "code",
   "execution_count": 8,
   "id": "e977df2c",
   "metadata": {},
   "outputs": [],
   "source": [
    "energies_mbar = {}\n",
    "\n",
    "for section in energy_paths:\n",
    "    energies_mbar[section]=float(getEnergyMBAR(energy_paths[section])[0])"
   ]
  },
  {
   "cell_type": "code",
   "execution_count": 9,
   "id": "dfc7364a",
   "metadata": {},
   "outputs": [],
   "source": [
    "sd_mbar = {}\n",
    "\n",
    "for section in energy_paths:\n",
    "    sd_mbar[section]=float(getEnergyMBAR(energy_paths[section])[1])"
   ]
  },
  {
   "cell_type": "code",
   "execution_count": 10,
   "id": "508f87c8",
   "metadata": {},
   "outputs": [],
   "source": [
    "energies_ti = {}\n",
    "\n",
    "for section in energy_paths:\n",
    "    energies_ti[section]=float(getEnergyTI(energy_paths[section]))"
   ]
  },
  {
   "cell_type": "markdown",
   "id": "41a4216c",
   "metadata": {},
   "source": [
    "### Get Corrections"
   ]
  },
  {
   "cell_type": "code",
   "execution_count": 11,
   "id": "22ce3541",
   "metadata": {},
   "outputs": [],
   "source": [
    "free_lj_corr_str, free_sd_lj_corr_str = getLJcorr(f'free/run0{run_no}/vanish/output/freenrg-LJCOR.dat')[0:2]\n",
    "free_lj_corr = float(free_lj_corr_str)\n",
    "free_sd_lj_corr = float(free_sd_lj_corr_str)"
   ]
  },
  {
   "cell_type": "code",
   "execution_count": 12,
   "id": "02373c2b",
   "metadata": {},
   "outputs": [],
   "source": [
    "bound_lj_corr_str, bound_sd_lj_corr_str = getLJcorr(f'bound/run0{run_no}/vanish/output/freenrg-LJCOR.dat')[0:2]\n",
    "bound_lj_corr = float(bound_lj_corr_str)\n",
    "bound_sd_lj_corr = float(bound_sd_lj_corr_str)"
   ]
  },
  {
   "cell_type": "code",
   "execution_count": 13,
   "id": "5f2185ef",
   "metadata": {},
   "outputs": [],
   "source": [
    "std_state_corr = float(getStdState(f'bound/run0{run_no}/vanish/output/standard-state-s-1-b-4-d-0.25-o-60.dat'))"
   ]
  },
  {
   "cell_type": "markdown",
   "id": "76eed0f2",
   "metadata": {},
   "source": [
    "### Calculate Output"
   ]
  },
  {
   "cell_type": "code",
   "execution_count": 14,
   "id": "563cd223",
   "metadata": {},
   "outputs": [],
   "source": [
    "dg_bind_mbar=energies_mbar['free_discharge']+energies_mbar['free_vanish']+free_lj_corr-energies_mbar['bound_discharge']-energies_mbar['bound_vanish']-bound_lj_corr-std_state_corr"
   ]
  },
  {
   "cell_type": "code",
   "execution_count": 15,
   "id": "41fe63ec",
   "metadata": {},
   "outputs": [],
   "source": [
    "dg_bind_ti=energies_ti['free_discharge']+energies_ti['free_vanish']+free_lj_corr-energies_ti['bound_discharge']-energies_ti['bound_vanish']-bound_lj_corr-std_state_corr"
   ]
  },
  {
   "cell_type": "code",
   "execution_count": 16,
   "id": "179de1ce",
   "metadata": {},
   "outputs": [],
   "source": [
    "sd_dg_bind_mbar=np.sqrt(sd_mbar['bound_discharge']**2+sd_mbar['bound_vanish']**2+sd_mbar['free_discharge']**2+sd_mbar['free_vanish']**2+free_sd_lj_corr**2+bound_sd_lj_corr**2)"
   ]
  },
  {
   "cell_type": "code",
   "execution_count": 17,
   "id": "d2a37970",
   "metadata": {},
   "outputs": [],
   "source": [
    "var = 0\n",
    "\n",
    "for stage in sd_mbar:\n",
    "    var+= sd_mbar[stage]**2\n",
    "    \n",
    "var+= free_sd_lj_corr**2\n",
    "var+= bound_sd_lj_corr**2\n",
    "\n",
    "sd_dg_bind_mbar = np.sqrt(var)"
   ]
  },
  {
   "cell_type": "code",
   "execution_count": 19,
   "id": "68e5f8b4",
   "metadata": {},
   "outputs": [],
   "source": [
    "dg_elec_mbar=energies_mbar['free_discharge']-energies_mbar['bound_discharge']\n",
    "\n",
    "sd_dg_elec_mbar=np.sqrt(sd_mbar['bound_discharge']**2+sd_mbar['free_discharge']**2)\n",
    "\n",
    "dg_elec_ti=energies_ti['free_discharge']-energies_ti['bound_discharge']\n",
    "\n",
    "dg_lj_mbar=energies_mbar['free_vanish']+free_lj_corr-energies_mbar['bound_vanish']-bound_lj_corr\n",
    "\n",
    "sd_dg_lj_mbar=np.sqrt(sd_mbar['bound_vanish']**2+sd_mbar['free_vanish']**2+free_sd_lj_corr**2+bound_sd_lj_corr**2)\n",
    "\n",
    "dg_lj_ti=energies_ti['free_vanish']+free_lj_corr-energies_ti['bound_vanish']-bound_lj_corr"
   ]
  },
  {
   "cell_type": "markdown",
   "id": "9616b23c",
   "metadata": {},
   "source": [
    "### Write Output"
   ]
  },
  {
   "cell_type": "code",
   "execution_count": 31,
   "id": "cb4cb7be",
   "metadata": {},
   "outputs": [
    {
     "name": "stdout",
     "output_type": "stream",
     "text": [
      "Section:  free_discharge\n",
      "MBAR estimate: 9.006035 +/- 0.01048 kcal/mol\n",
      "TI estimate: 9.0304 kcal/mol \n",
      "\n",
      "Section:  free_vanish\n",
      "MBAR estimate: -12.148559 +/- 0.04437 kcal/mol\n",
      "TI estimate: -11.78419 kcal/mol\n",
      "LJ correction:  0.28897 +/- 0.0157 kcal/mol \n",
      "\n",
      "Section:  bound_discharge\n",
      "MBAR estimate: 11.475786 +/- 0.01015 kcal/mol\n",
      "TI estimate: 11.21436 kcal/mol \n",
      "\n",
      "Section:  bound_vanish\n",
      "MBAR estimate: -3.161217 +/- 0.0359 kcal/mol\n",
      "TI estimate: -2.46835 kcal/mol\n",
      "LJ correction:  0.33601 +/- 0.07128 kcal/mol\n",
      "Standard state correction  -4.13 kcal/mol \n",
      "\n",
      "###########################################################################\n",
      "dg_electrostatic from MBAR:  -2.4697509999999987  +/- 0.014589479085971507 kcal/mol\n",
      "dg_electrostatic from TI:  -2.183959999999999 kcal/mol\n",
      "dg_LJ from MBAR:  -9.034381999999999  +/- 0.014589479085971507 kcal/mol\n",
      "dg_LJ from TI:  -9.362879999999999 kcal/mol \n",
      "\n",
      "###########################################################################\n",
      "dg_bind from MBAR:  -7.374132999999998  +/- 0.09379599245170339 kcal/mol\n",
      "dg_bind from TI:  -7.416839999999998 kcal/mol \n",
      "\n",
      "###########################################################################\n",
      "\n"
     ]
    }
   ],
   "source": [
    "for section in energy_paths:\n",
    "    if section == 'bound_vanish':\n",
    "        print('Section: ',section)\n",
    "        print('MBAR estimate:', energies_mbar[section],'+/-',sd_mbar[section],'kcal/mol')\n",
    "        print('TI estimate:', energies_ti[section],'kcal/mol')\n",
    "        print('LJ correction: ', bound_lj_corr,'+/-',bound_sd_lj_corr,'kcal/mol')\n",
    "        print('Standard state correction ', std_state_corr, 'kcal/mol','\\n')\n",
    "        \n",
    "    elif section == 'free_vanish':\n",
    "        print('Section: ',section)\n",
    "        print('MBAR estimate:', energies_mbar[section],'+/-',sd_mbar[section],'kcal/mol')\n",
    "        print('TI estimate:', energies_ti[section],'kcal/mol')\n",
    "        print('LJ correction: ', free_lj_corr,'+/-',free_sd_lj_corr,'kcal/mol','\\n')\n",
    "\n",
    "    else:\n",
    "        print('Section: ',section)\n",
    "        print('MBAR estimate:', energies_mbar[section],'+/-',sd_mbar[section],'kcal/mol')\n",
    "        print('TI estimate:', energies_ti[section],'kcal/mol','\\n')\n",
    "    \n",
    "    \n",
    "print('###########################################################################')\n",
    "\n",
    "print('dg_electrostatic from MBAR: ',dg_elec_mbar,' +/-', sd_dg_elec_mbar,'kcal/mol')\n",
    "print('dg_electrostatic from TI: ',dg_elec_ti,'kcal/mol')    \n",
    "\n",
    "print('dg_LJ from MBAR: ',dg_lj_mbar,' +/-', sd_dg_elec_mbar,'kcal/mol')\n",
    "print('dg_LJ from TI: ',dg_lj_ti,'kcal/mol','\\n')  \n",
    "    \n",
    "print('###########################################################################')\n",
    "\n",
    "print('dg_bind from MBAR: ',dg_bind_mbar,' +/-', sd_dg_bind_mbar,'kcal/mol')\n",
    "print('dg_bind from TI: ',dg_bind_ti,'kcal/mol','\\n')\n",
    "\n",
    "print('###########################################################################\\n')"
   ]
  },
  {
   "cell_type": "code",
   "execution_count": null,
   "id": "57bc0968",
   "metadata": {},
   "outputs": [],
   "source": []
  }
 ],
 "metadata": {
  "kernelspec": {
   "display_name": "Python 3 (ipykernel)",
   "language": "python",
   "name": "python3"
  },
  "language_info": {
   "codemirror_mode": {
    "name": "ipython",
    "version": 3
   },
   "file_extension": ".py",
   "mimetype": "text/x-python",
   "name": "python",
   "nbconvert_exporter": "python",
   "pygments_lexer": "ipython3",
   "version": "3.8.11"
  }
 },
 "nbformat": 4,
 "nbformat_minor": 5
}
