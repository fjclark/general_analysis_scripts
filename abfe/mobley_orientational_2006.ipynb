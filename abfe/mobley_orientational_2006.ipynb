{
 "cells": [
  {
   "cell_type": "markdown",
   "metadata": {},
   "source": [
    "### Code to Calculate Free Energy of Releasing Distance Restraint"
   ]
  },
  {
   "cell_type": "code",
   "execution_count": 10,
   "metadata": {},
   "outputs": [],
   "source": [
    "# Code closely based on restraints.py in\n",
    "# Yank https://github.com/choderalab/yank \n",
    "# (for releasing Boresch restraints)\n",
    "\n",
    "import numpy as np\n",
    "import os\n",
    "from math import pi, sin, log\n",
    "import scipy.integrate\n",
    "from Sire import Units\n",
    "\n",
    "# Constants\n",
    "v0 = ((Units.meter3/1000)/Units.mole.value()).value() # A^3, the standard state volume\n",
    "R = Units.gasr # kcal mol-1, the molar gas constant\n",
    "T = 298.15 # K\n",
    "\n",
    "def numerical_distance_integrand(r, r0, kr):\n",
    "    \"\"\"Integrand for harmonic distance restraint. Domain is on [0, infinity], \n",
    "    but this will be truncated to [0, 8 RT] for practicality.\n",
    "\n",
    "    Args:\n",
    "        r (float): Distance to be integrated, in Angstrom \n",
    "        r0 (float): Equilibrium distance, in Angstrom\n",
    "        kr (float): Force constant, in kcal mol-1 A-2\n",
    "\n",
    "    Returns:\n",
    "        float: Value of integrand\n",
    "    \"\"\"\n",
    "    return (r**2)*np.exp(-(kr*(r-r0)**2)/(2*R*T))\n",
    "\n",
    "def get_correction(r0, kr):\n",
    "    \"\"\"Get the free energy of releasing the harmonic distance restraint.\n",
    "    Domain is on [0, infinity], but this will be truncated to [0, 8 RT] for practicality.\n",
    "    Args:\n",
    "        r0 (float): Equilibrium distance, in Angstrom\n",
    "        kr (float): Force constant, in kcal mol-1 A-2\n",
    "    Returns:\n",
    "        float: Free energy of releasing the restraint\n",
    "    \"\"\"\n",
    "    dist_at_8RT = 4*np.sqrt((R*T)/kr) # Dist. which gives restraint energy = 8 RT\n",
    "    r_min = max(0, r0-dist_at_8RT)\n",
    "    r_max = r0 + dist_at_8RT\n",
    "    integrand = lambda r: numerical_distance_integrand(r, r0, kr)\n",
    "    z_r = scipy.integrate.quad(integrand, r_min, r_max)[0]\n",
    "    dg = -R*T*log(v0/(4*np.pi*z_r))\n",
    "\n",
    "    return dg"
   ]
  },
  {
   "cell_type": "markdown",
   "metadata": {},
   "source": [
    "### Free Energy of Releasing the Restraint if r0 == 0"
   ]
  },
  {
   "cell_type": "code",
   "execution_count": 11,
   "metadata": {},
   "outputs": [
    {
     "name": "stdout",
     "output_type": "stream",
     "text": [
      "Free energy of releasing restraint when r_0 = 0: -5.27 kcal mol-1\n"
     ]
    }
   ],
   "source": [
    "cor_r0 = get_correction(0, 10)\n",
    "print(f\"Free energy of releasing restraint when r_0 = 0: {cor_r0:.2f} kcal mol-1\")"
   ]
  },
  {
   "cell_type": "markdown",
   "metadata": {},
   "source": [
    "This is in excellent agreement with the correction shown in Table 1 for the correction with no orientational restraints (-5.26 kcal mol-1)"
   ]
  },
  {
   "cell_type": "markdown",
   "metadata": {},
   "source": [
    "### Free Energy of Releasing the Restraint if r0 = 3.48 A"
   ]
  },
  {
   "cell_type": "code",
   "execution_count": 17,
   "metadata": {},
   "outputs": [
    {
     "name": "stdout",
     "output_type": "stream",
     "text": [
      "Free energy of releasing restraint when r_0 = 3.48 A: -1.71 kcal mol-1\n"
     ]
    }
   ],
   "source": [
    "cor_r0 = get_correction(3.48, 10)\n",
    "print(f\"Free energy of releasing restraint when r_0 = 3.48 A: {cor_r0:.2f} kcal mol-1\")"
   ]
  },
  {
   "cell_type": "markdown",
   "metadata": {},
   "source": [
    "For the simulation without orientational restraints and with 1 ns sampling time, the overall free energy is 5.95 +/- 0.09 kcal mol-1. If the above correction is used instead, this gives 5.95 +5.26 - 1.71 = 9.50 +/- 0.09 kcal mol-1, much closer to the answer obtained with orientational restraints (10.03 +/- 0.05 kcal mol-1)."
   ]
  }
 ],
 "metadata": {
  "kernelspec": {
   "display_name": "Python 3.9.10",
   "language": "python",
   "name": "python3"
  },
  "language_info": {
   "codemirror_mode": {
    "name": "ipython",
    "version": 3
   },
   "file_extension": ".py",
   "mimetype": "text/x-python",
   "name": "python",
   "nbconvert_exporter": "python",
   "pygments_lexer": "ipython3",
   "version": "3.9.10"
  },
  "orig_nbformat": 4,
  "vscode": {
   "interpreter": {
    "hash": "91a4ca8273f7d6826e5f84789c42688b948ba55a4a582bdc4bdb0676eea3da3d"
   }
  }
 },
 "nbformat": 4,
 "nbformat_minor": 2
}
