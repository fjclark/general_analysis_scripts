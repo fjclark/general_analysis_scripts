{
 "cells": [
  {
   "cell_type": "code",
   "execution_count": 1,
   "id": "69fa186f",
   "metadata": {},
   "outputs": [],
   "source": [
    "import numpy as np"
   ]
  },
  {
   "cell_type": "markdown",
   "id": "c1f0cf24",
   "metadata": {},
   "source": [
    "### Functions to Read Files and Extract Energies"
   ]
  },
  {
   "cell_type": "code",
   "execution_count": 2,
   "id": "34561d3b",
   "metadata": {},
   "outputs": [],
   "source": [
    "def getEnergyMBAR(input_file):\n",
    "    '''\n",
    "    Finds MBAR free energy from .dat input file.\n",
    "    '''\n",
    "    with open(input_file,'r') as file:\n",
    "        read_file = file.readlines()\n",
    "    \n",
    "    energy =''\n",
    "    standard_dev =''\n",
    "\n",
    "    for i, line in enumerate(read_file):\n",
    "        if line.startswith('#MBAR free energy difference in kcal/mol:'):\n",
    "            energy=read_file[i+1].split()[0][:-1]\n",
    "            standard_dev=read_file[i+1].split()[1][:-1]\n",
    "        \n",
    "    return (energy, standard_dev)"
   ]
  },
  {
   "cell_type": "code",
   "execution_count": 3,
   "id": "6bb3ac70",
   "metadata": {},
   "outputs": [],
   "source": [
    "def getEnergyTI(input_file):\n",
    "    '''\n",
    "    Finds TI free energy from .dat input file.\n",
    "    '''\n",
    "    with open(input_file,'r') as file:\n",
    "        read_file = file.readlines()\n",
    "    \n",
    "    energy =''\n",
    "\n",
    "    for i, line in enumerate(read_file):\n",
    "        if line.startswith('#TI free energy difference in kcal/mol:'):\n",
    "            energy=read_file[i+1].split()[0][:-1]\n",
    "        \n",
    "    return energy"
   ]
  },
  {
   "cell_type": "code",
   "execution_count": 4,
   "id": "050a9db9",
   "metadata": {},
   "outputs": [],
   "source": [
    "def getLJcorr(input_file):\n",
    "    '''Finds LJ correction from .dat file'''\n",
    "    \n",
    "    with open(input_file,'r') as file:\n",
    "        read_file = file.readlines()\n",
    "    \n",
    "    correction = read_file[0].split()[2]\n",
    "    standard_dev= read_file[0].split()[4]\n",
    "        \n",
    "    return (correction,standard_dev)"
   ]
  },
  {
   "cell_type": "markdown",
   "id": "d43fbbf0",
   "metadata": {},
   "source": [
    "### Paths to Files"
   ]
  },
  {
   "cell_type": "code",
   "execution_count": 5,
   "id": "59be52fe",
   "metadata": {},
   "outputs": [],
   "source": [
    "paths = {'vacuum_discharge':'vacuum/discharge/output/freenrg-MBAR-p-83-overlap.dat',\n",
    "         'vacuum_vanish':'vacuum/vanish/output/freenrg-MBAR-p-83-overlap.dat',\n",
    "         'free_discharge':'free/discharge/output/freenrg-MBAR-p-83-overlap.dat',\n",
    "         'free_vanish':'free/vanish/output/freenrg-MBAR-p-83-overlap.dat'}"
   ]
  },
  {
   "cell_type": "markdown",
   "id": "3f7bc841",
   "metadata": {},
   "source": [
    "### Get Energies"
   ]
  },
  {
   "cell_type": "code",
   "execution_count": 6,
   "id": "e977df2c",
   "metadata": {},
   "outputs": [],
   "source": [
    "energies_mbar = {}\n",
    "\n",
    "for section in paths:\n",
    "    energies_mbar[section]=float(getEnergyMBAR(paths[section])[0])"
   ]
  },
  {
   "cell_type": "code",
   "execution_count": 7,
   "id": "dfc7364a",
   "metadata": {},
   "outputs": [],
   "source": [
    "sd_mbar = {}\n",
    "\n",
    "for section in paths:\n",
    "    sd_mbar[section]=float(getEnergyMBAR(paths[section])[1])"
   ]
  },
  {
   "cell_type": "code",
   "execution_count": 8,
   "id": "508f87c8",
   "metadata": {},
   "outputs": [],
   "source": [
    "energies_ti = {}\n",
    "\n",
    "for section in paths:\n",
    "    energies_ti[section]=float(getEnergyTI(paths[section]))"
   ]
  },
  {
   "cell_type": "code",
   "execution_count": 9,
   "id": "bcca1b08",
   "metadata": {},
   "outputs": [],
   "source": [
    "lj_corr = float(getLJcorr('free/vanish/output/freenrg-LJCOR.dat')[0])\n",
    "sd_lj_corr = float(getLJcorr('free/vanish/output/freenrg-LJCOR.dat')[1])"
   ]
  },
  {
   "cell_type": "code",
   "execution_count": 10,
   "id": "5a24b50a",
   "metadata": {},
   "outputs": [],
   "source": [
    "dg_hyd_mbar=energies_mbar['vacuum_discharge']+energies_mbar['vacuum_vanish']-energies_mbar['free_discharge']-energies_mbar['free_vanish']-lj_corr"
   ]
  },
  {
   "cell_type": "code",
   "execution_count": 11,
   "id": "a4615898",
   "metadata": {},
   "outputs": [],
   "source": [
    "dg_hyd_ti= energies_ti['vacuum_discharge']+energies_ti['vacuum_vanish']-energies_ti['free_discharge']-energies_ti['free_vanish']-lj_corr"
   ]
  },
  {
   "cell_type": "code",
   "execution_count": 12,
   "id": "22cc8f8d",
   "metadata": {},
   "outputs": [],
   "source": [
    "sd_dg_hyd_mbar=np.sqrt(sd_mbar['vacuum_discharge']**2+sd_mbar['vacuum_vanish']**2+sd_mbar['free_discharge']**2+sd_mbar['free_vanish']**2+sd_lj_corr**2)"
   ]
  },
  {
   "cell_type": "markdown",
   "id": "9616b23c",
   "metadata": {},
   "source": [
    "### Write Output"
   ]
  },
  {
   "cell_type": "code",
   "execution_count": 16,
   "id": "cb4cb7be",
   "metadata": {},
   "outputs": [
    {
     "name": "stdout",
     "output_type": "stream",
     "text": [
      "Section:  free_discharge\n",
      "MBAR estimate: 13.201819 +/- 0.01125 kcal/mol\n",
      "TI estimate: 13.24796 kcal/mol \n",
      "\n",
      "Section:  free_vanish\n",
      "MBAR estimate: -9.116991 +/- 0.04008 kcal/mol\n",
      "TI estimate: -8.8253 kcal/mol\n",
      "LJ correction:  0.30353 +/- 0.01633 kcal/mol \n",
      "\n",
      "Section:  vacuum_discharge\n",
      "MBAR estimate: -0.872611 +/- 0.00241 kcal/mol\n",
      "TI estimate: -0.94851 kcal/mol \n",
      "\n",
      "Section:  vacuum_vanish\n",
      "MBAR estimate: -13.149424 +/- 0.00581 kcal/mol\n",
      "TI estimate: -15.99035 kcal/mol \n",
      "\n",
      "###########################################################################\n",
      "dg_hyd from MBAR:  -18.410392999999996  +/- 0.04515752428997852 kcal/mol\n",
      "dg_hyd from TI:  -21.665049999999997 kcal/mol\n",
      "########################################################################### \n",
      "\n"
     ]
    }
   ],
   "source": [
    "for section in paths:\n",
    "    if section != 'free_vanish':\n",
    "        print('Section: ',section)\n",
    "        print('MBAR estimate:', energies_mbar[section],'+/-',sd_mbar[section],'kcal/mol')\n",
    "        print('TI estimate:', energies_ti[section],'kcal/mol','\\n')\n",
    "    else:\n",
    "        print('Section: ',section)\n",
    "        print('MBAR estimate:', energies_mbar[section],'+/-',sd_mbar[section],'kcal/mol')\n",
    "        print('TI estimate:', energies_ti[section],'kcal/mol')\n",
    "        print('LJ correction: ', lj_corr,'+/-',sd_lj_corr,'kcal/mol','\\n')\n",
    "    \n",
    "print('###########################################################################')\n",
    "\n",
    "print('dg_hyd from MBAR: ',dg_hyd_mbar,' +/-', sd_dg_hyd_mbar,'kcal/mol')\n",
    "print('dg_hyd from TI: ',dg_hyd_ti,'kcal/mol')\n",
    "\n",
    "print('###########################################################################','\\n')"
   ]
  },
  {
   "cell_type": "code",
   "execution_count": null,
   "id": "ad05d946",
   "metadata": {},
   "outputs": [],
   "source": []
  }
 ],
 "metadata": {
  "kernelspec": {
   "display_name": "Python 3 (ipykernel)",
   "language": "python",
   "name": "python3"
  },
  "language_info": {
   "codemirror_mode": {
    "name": "ipython",
    "version": 3
   },
   "file_extension": ".py",
   "mimetype": "text/x-python",
   "name": "python",
   "nbconvert_exporter": "python",
   "pygments_lexer": "ipython3",
   "version": "3.7.8"
  }
 },
 "nbformat": 4,
 "nbformat_minor": 5
}
