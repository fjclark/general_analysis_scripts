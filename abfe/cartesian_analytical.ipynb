{
 "cells": [
  {
   "cell_type": "code",
   "execution_count": 5,
   "metadata": {},
   "outputs": [],
   "source": [
    "import numpy as np\n",
    "import os\n",
    "from math import pi, sin, log\n",
    "from scipy.special import dawsn\n",
    "\n",
    "from Sire.Tools import Parameter, resolveParameters\n",
    "#from Sire.Units import *\n",
    "from Sire.Tools.OpenMMMD import *\n",
    "# Constants\n",
    "v0 = 1660.53907 # A^3, the standard state volume\n",
    "R = 0.00198720425864083 # kcal mol-1, the molar gas constant"
   ]
  },
  {
   "cell_type": "code",
   "execution_count": 6,
   "metadata": {},
   "outputs": [
    {
     "name": "stdout",
     "output_type": "stream",
     "text": [
      "Analytical correction for releasing Cartesian restraints = -8.86 kcal mol-1\n"
     ]
    }
   ],
   "source": [
    "\n",
    "    # Get Cartesian restraint dict in dict form\n",
    "    #cart_dict = {\"anchor_points\":{\"l1\":21, \"l2\":11, \"l3\":2, \"r1\":4946, \"r2\":4944, \"r3\":4949}, \"equilibrium_values\":{ \"xr_l1_0\":-1.61, \"yr_l1_0\": 4.48, \"zr_l1_0\": 0.68}, \"force_constants\":{\"k_xr_l1\":2.65, \"k_yr_l1\":11.91, \"k_zr_l1\":4.14,\"k_phi\":21.01, \"k_theta\":21.81, \"k_psi\":25.24}, \"reference_frame_rotation\":{\"xl_ref\":{\"xl_ref_xl\": -0.0255, \"xl_ref_yl\":0.0346, \"xl_ref_zl\":0.9991}, \"yl_ref\":{\"yl_ref_xl\": 0.6906, \"yl_ref_yl\":-0.7220, \"yl_ref_zl\":0.0426}, \"zl_ref\":{\"zl_ref_xl\": 0.7228, \"zl_ref_yl\":0.6911, \"zl_ref_zl\":-0.0055}}}\n",
    "    cart_dict = {\"anchor_points\":{\"l1\":21, \"l2\":11, \"l3\":2, \"r1\":4946, \"r2\":4944, \"r3\":4949}, \"equilibrium_values\":{ \"xr_l1_0\":-1.61, \"yr_l1_0\": 4.48, \"zr_l1_0\": 0.68}, \"force_constants\":{\"k_xr_l1\":2.65, \"k_yr_l1\":11.91, \"k_zr_l1\":4.14,\"k_phi\":0, \"k_theta\":0, \"k_psi\":0}, \"reference_frame_rotation\":{\"xl_ref\":{\"xl_ref_xl\": -0.0255, \"xl_ref_yl\":0.0346, \"xl_ref_zl\":0.9991}, \"yl_ref\":{\"yl_ref_xl\": 0.6906, \"yl_ref_yl\":-0.7220, \"yl_ref_zl\":0.0426}, \"zl_ref\":{\"zl_ref_xl\": 0.7228, \"zl_ref_yl\":0.6911, \"zl_ref_zl\":-0.0055}}}\n",
    "\n",
    "    # Params\n",
    "    T = 298 # K\n",
    "\n",
    "    #force_constants = list(boresch_dict[\"force_constants\"].values()) # kcal mol-1 A-2 or rad-2\n",
    "    #prod_force_constants = np.prod(force_constants)\n",
    "\n",
    "    prefactor = 8*(pi**2)*v0 # Divide this to account for force constants of 0\n",
    "    force_constants = []\n",
    "    k_theta = 0\n",
    "    \n",
    "\n",
    "    # Loop through and correct for angle force constants of zero,\n",
    "    # which break the analytical correction\n",
    "    for k, val in cart_dict[\"force_constants\"].items():\n",
    "        if val == 0:\n",
    "            if k[3] == \"r\":\n",
    "                print(\"Error: Positional restraints must not be zero\")\n",
    "                sys.exit(-1)\n",
    "            if k in [\"k_phi\", \"k_psi\"]:\n",
    "                prefactor /= 2*pi\n",
    "            if k == \"k_theta\":\n",
    "                prefactor /= 2\n",
    "                k_theta = val\n",
    "        else:\n",
    "            force_constants.append(val)\n",
    "\n",
    "    n_nonzero_k = len(force_constants)\n",
    "    prod_force_constants = np.prod(force_constants)\n",
    "\n",
    "    # Calculation\n",
    "    numerator = np.sqrt(prod_force_constants)\n",
    "    denominator_1 = ((2*pi*R*T)**(n_nonzero_k/2))/pi**((bool(k_theta))/2) # If one of the force consts \n",
    "                                                                          # is k_theta, divide by sqrt(pi)\n",
    "    if bool(k_theta):\n",
    "        denominator_2 = dawsn(((R*T)**(0.5))/((2*k_theta)**0.5))\n",
    "    else:\n",
    "        denominator_2 = 1\n",
    "\n",
    "    dg = -R*T*log((prefactor*numerator)/(denominator_1 * denominator_2))\n",
    "\n",
    "    print(f\"Analytical correction for releasing Cartesian restraints = {dg:.2f} kcal mol-1\")"
   ]
  },
  {
   "cell_type": "code",
   "execution_count": null,
   "metadata": {},
   "outputs": [],
   "source": []
  }
 ],
 "metadata": {
  "interpreter": {
   "hash": "83409b273b959257bc5bd132f985e921d1bb3cfc888abde5e1dc8edd4eb594b9"
  },
  "kernelspec": {
   "display_name": "Python 3.9.12 ('biosimspace-dev')",
   "language": "python",
   "name": "python3"
  },
  "language_info": {
   "codemirror_mode": {
    "name": "ipython",
    "version": 3
   },
   "file_extension": ".py",
   "mimetype": "text/x-python",
   "name": "python",
   "nbconvert_exporter": "python",
   "pygments_lexer": "ipython3",
   "version": "3.9.12"
  },
  "orig_nbformat": 4
 },
 "nbformat": 4,
 "nbformat_minor": 2
}
